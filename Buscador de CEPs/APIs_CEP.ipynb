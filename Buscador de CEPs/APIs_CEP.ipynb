{
 "cells": [
  {
   "cell_type": "code",
   "execution_count": 6,
   "metadata": {},
   "outputs": [
    {
     "name": "stdout",
     "output_type": "stream",
     "text": [
      "Defaulting to user installation because normal site-packages is not writeable\n",
      "Requirement already satisfied: requests in c:\\users\\usuário\\appdata\\local\\packages\\pythonsoftwarefoundation.python.3.12_qbz5n2kfra8p0\\localcache\\local-packages\\python312\\site-packages (2.31.0)\n",
      "Requirement already satisfied: charset-normalizer<4,>=2 in c:\\users\\usuário\\appdata\\local\\packages\\pythonsoftwarefoundation.python.3.12_qbz5n2kfra8p0\\localcache\\local-packages\\python312\\site-packages (from requests) (3.3.2)\n",
      "Requirement already satisfied: idna<4,>=2.5 in c:\\users\\usuário\\appdata\\local\\packages\\pythonsoftwarefoundation.python.3.12_qbz5n2kfra8p0\\localcache\\local-packages\\python312\\site-packages (from requests) (3.6)\n",
      "Requirement already satisfied: urllib3<3,>=1.21.1 in c:\\users\\usuário\\appdata\\local\\packages\\pythonsoftwarefoundation.python.3.12_qbz5n2kfra8p0\\localcache\\local-packages\\python312\\site-packages (from requests) (2.1.0)\n",
      "Requirement already satisfied: certifi>=2017.4.17 in c:\\users\\usuário\\appdata\\local\\packages\\pythonsoftwarefoundation.python.3.12_qbz5n2kfra8p0\\localcache\\local-packages\\python312\\site-packages (from requests) (2023.11.17)\n"
     ]
    },
    {
     "name": "stderr",
     "output_type": "stream",
     "text": [
      "\n",
      "[notice] A new release of pip is available: 24.0 -> 24.1.2\n",
      "[notice] To update, run: C:\\Users\\Usuário\\AppData\\Local\\Microsoft\\WindowsApps\\PythonSoftwareFoundation.Python.3.12_qbz5n2kfra8p0\\python.exe -m pip install --upgrade pip\n"
     ]
    },
    {
     "name": "stdout",
     "output_type": "stream",
     "text": [
      "Defaulting to user installation because normal site-packages is not writeable\n",
      "Requirement already satisfied: ujson in c:\\users\\usuário\\appdata\\local\\packages\\pythonsoftwarefoundation.python.3.12_qbz5n2kfra8p0\\localcache\\local-packages\\python312\\site-packages (5.10.0)\n"
     ]
    },
    {
     "name": "stderr",
     "output_type": "stream",
     "text": [
      "\n",
      "[notice] A new release of pip is available: 24.0 -> 24.1.2\n",
      "[notice] To update, run: C:\\Users\\Usuário\\AppData\\Local\\Microsoft\\WindowsApps\\PythonSoftwareFoundation.Python.3.12_qbz5n2kfra8p0\\python.exe -m pip install --upgrade pip\n"
     ]
    }
   ],
   "source": [
    "!pip install requests\n",
    "!pip install ujson"
   ]
  },
  {
   "cell_type": "code",
   "execution_count": 8,
   "metadata": {},
   "outputs": [],
   "source": [
    "import requests\n",
    "import json"
   ]
  },
  {
   "cell_type": "code",
   "execution_count": 15,
   "metadata": {},
   "outputs": [
    {
     "name": "stdout",
     "output_type": "stream",
     "text": [
      "{'cep': '03015000', 'address_type': 'Avenida', 'address_name': 'Celso Garcia', 'address': 'Avenida Celso Garcia', 'state': 'SP', 'district': 'Brás', 'lat': '-23.53872', 'lng': '-46.60471', 'city': 'São Paulo', 'city_ibge': '3550308', 'ddd': '11'}\n"
     ]
    }
   ],
   "source": [
    "cep = int(input(\"Informe o seu CEP:\"))\n",
    "\n",
    "api_cep = requests.get(f\"https://cep.awesomeapi.com.br/json/\") ### coloca seu cep depois da /\n",
    "api_cep_dic = api_cep.json()\n",
    "print(api_cep_dic)\n"
   ]
  },
  {
   "cell_type": "code",
   "execution_count": 18,
   "metadata": {},
   "outputs": [
    {
     "name": "stdout",
     "output_type": "stream",
     "text": [
      "{'cep': '04516000', 'address_type': 'Avenida', 'address_name': 'Rouxinol', 'address': 'Avenida Rouxinol', 'state': 'SP', 'district': 'Indianópolis', 'lat': '-23.60564', 'lng': '-46.66765', 'city': 'São Paulo', 'city_ibge': '3550308', 'ddd': '11'}\n"
     ]
    }
   ],
   "source": [
    "def validar_cep(cep):\n",
    "    return len(cep) == 8 and cep.isdigit()\n",
    "\n",
    "while True:\n",
    "    cep = input(\"Informe o seu CEP (somente números):\")\n",
    "    if not validar_cep(cep):\n",
    "        print(\"CEP inválido. O CEP deve conter exatamente 8 dígitos numéricos.\")\n",
    "    else:\n",
    "        try:\n",
    "            api_cep = requests.get(f\"https://cep.awesomeapi.com.br/json/{cep}\")\n",
    "            if api_cep.status_code == 200:\n",
    "                api_cep_dic = api_cep.json()\n",
    "                if \"code\" in api_cep_dic and api_cep_dic[\"code\"] == \"invalid\":\n",
    "                    print(\"CEP inválido. Tente novamente com um CEP válido.\")\n",
    "                else:  \n",
    "                    print(api_cep_dic)\n",
    "                    break  \n",
    "            else:\n",
    "                print(\"Erro na requisição. Tente novamente mais tarde.\")\n",
    "        except Exception as erro:\n",
    "            print(f\"Erro na requisição: {erro}. Tente novamente mais tarde.\")"
   ]
  }
 ],
 "metadata": {
  "kernelspec": {
   "display_name": "Python 3",
   "language": "python",
   "name": "python3"
  },
  "language_info": {
   "codemirror_mode": {
    "name": "ipython",
    "version": 3
   },
   "file_extension": ".py",
   "mimetype": "text/x-python",
   "name": "python",
   "nbconvert_exporter": "python",
   "pygments_lexer": "ipython3",
   "version": "3.12.4"
  }
 },
 "nbformat": 4,
 "nbformat_minor": 2
}
